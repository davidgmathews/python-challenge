{
 "cells": [
  {
   "cell_type": "code",
   "execution_count": 8,
   "metadata": {},
   "outputs": [],
   "source": [
    "#library needed for csv.reader function\n",
    "import csv\n",
    "#initializing a list to capture data\n",
    "data=[]\n",
    "#defining path to data source\n",
    "election_data=\"c:/Users/david/OneDrive/DV/HomeWork/HW_3_Py_Me_Up_Charlie/python-challenge/PyPoll/election_data.csv\"\n",
    "#establishing a connection to data source and reading in data\n",
    "with open(election_data,\"r\",newline=\"\",encoding=\"utf-8\") as file:\n",
    "    read_obj=csv.reader(file,delimiter=\",\")\n",
    "    #iterating over the csv.reader object read_obj to populate \"data\"\n",
    "    for something in read_obj:\n",
    "        data.append(something)\n",
    "#Skipping headers (index:0)\n",
    "data=data[1:]"
   ]
  },
  {
   "cell_type": "code",
   "execution_count": 7,
   "metadata": {},
   "outputs": [
    {
     "name": "stdout",
     "output_type": "stream",
     "text": [
      "[['Voter ID', 'County', 'Candidate'], ['12864552', 'Marsh', 'Khan'], ['17444633', 'Marsh', 'Correy'], ['19330107', 'Marsh', 'Khan'], ['19865775', 'Queen', 'Khan']]\n"
     ]
    }
   ],
   "source": [
    "print(data[:5])"
   ]
  },
  {
   "cell_type": "code",
   "execution_count": 64,
   "metadata": {},
   "outputs": [],
   "source": [
    "total_votes=len(data)"
   ]
  },
  {
   "cell_type": "code",
   "execution_count": 25,
   "metadata": {},
   "outputs": [],
   "source": [
    "vote_count_dict={}\n",
    "for i in range(len(data)):\n",
    "    if data[i][2] in vote_count_dict:\n",
    "        vote_count_dict[data[i][2]]=vote_count_dict[data[i][2]]+1\n",
    "    else:\n",
    "        vote_count_dict[data[i][2]]=1"
   ]
  },
  {
   "cell_type": "code",
   "execution_count": 26,
   "metadata": {},
   "outputs": [
    {
     "name": "stdout",
     "output_type": "stream",
     "text": [
      "{'Khan': 2218231, 'Correy': 704200, 'Li': 492940, \"O'Tooley\": 105630}\n"
     ]
    }
   ],
   "source": [
    "print(vote_count_dict)"
   ]
  },
  {
   "cell_type": "code",
   "execution_count": 106,
   "metadata": {},
   "outputs": [],
   "source": [
    "results_dict={}\n",
    "for key in vote_count_dict:\n",
    "    results_dict[key]={\"Vote_Count\":vote_count_dict[key],\"Vote_Percentage\":round(vote_count_dict[key]/total_votes*100,3)}"
   ]
  },
  {
   "cell_type": "code",
   "execution_count": 107,
   "metadata": {},
   "outputs": [
    {
     "data": {
      "text/plain": [
       "{'Khan': {'Vote_Count': 2218231, 'Vote_Percentage': 63.0},\n",
       " 'Correy': {'Vote_Count': 704200, 'Vote_Percentage': 20.0},\n",
       " 'Li': {'Vote_Count': 492940, 'Vote_Percentage': 14.0},\n",
       " \"O'Tooley\": {'Vote_Count': 105630, 'Vote_Percentage': 3.0}}"
      ]
     },
     "execution_count": 107,
     "metadata": {},
     "output_type": "execute_result"
    }
   ],
   "source": [
    "results_dict"
   ]
  },
  {
   "cell_type": "code",
   "execution_count": 108,
   "metadata": {},
   "outputs": [
    {
     "name": "stdout",
     "output_type": "stream",
     "text": [
      "Election Results\n",
      "-------------------------\n",
      "Total Votes: 3521001\n",
      "-------------------------\n",
      "Khan: 63.0% (2218231)\n",
      "Correy: 20.0% (704200)\n",
      "Li: 14.0% (492940)\n",
      "O'Tooley: 3.0% (105630)\n",
      "-------------------------\n"
     ]
    }
   ],
   "source": [
    "print(\"Election Results\")\n",
    "print(\"-------------------------\")\n",
    "print(f\"Total Votes: {total_votes}\")\n",
    "print(\"-------------------------\")\n",
    "winner=results_dict[1]\n",
    "for key in results_dict:\n",
    "    print(f\"{key}: {results_dict[key]['Vote_Percentage']}% ({results_dict[key]['Vote_Count']})\")\n",
    "    if \n",
    "print(\"-------------------------\")\n"
   ]
  },
  {
   "cell_type": "code",
   "execution_count": 121,
   "metadata": {},
   "outputs": [
    {
     "ename": "TypeError",
     "evalue": "'dict_keys' object does not support indexing",
     "output_type": "error",
     "traceback": [
      "\u001b[1;31m---------------------------------------------------------------------------\u001b[0m",
      "\u001b[1;31mTypeError\u001b[0m                                 Traceback (most recent call last)",
      "\u001b[1;32m<ipython-input-121-d7aeab13b9a8>\u001b[0m in \u001b[0;36m<module>\u001b[1;34m()\u001b[0m\n\u001b[1;32m----> 1\u001b[1;33m \u001b[0mresults_dict\u001b[0m\u001b[1;33m.\u001b[0m\u001b[0mkeys\u001b[0m\u001b[1;33m(\u001b[0m\u001b[1;33m)\u001b[0m\u001b[1;33m[\u001b[0m\u001b[1;36m1\u001b[0m\u001b[1;33m]\u001b[0m\u001b[1;33m\u001b[0m\u001b[0m\n\u001b[0m",
      "\u001b[1;31mTypeError\u001b[0m: 'dict_keys' object does not support indexing"
     ]
    }
   ],
   "source": [
    "results_dict.\n"
   ]
  },
  {
   "cell_type": "code",
   "execution_count": null,
   "metadata": {},
   "outputs": [],
   "source": [
    "#Election Results\n",
    "#  -------------------------\n",
    " # Total Votes: 3521001\n",
    "#-------------------------\n",
    "#  Khan: 63.000% (2218231)\n",
    "#  Correy: 20.000% (704200)\n",
    "#  Li: 14.000% (492940)\n",
    "#  O'Tooley: 3.000% (105630)\n",
    "#  -------------------------\n",
    "#  Winner: Khan\n",
    "#  -------------------------\n"
   ]
  }
 ],
 "metadata": {
  "kernelspec": {
   "display_name": "Python 3",
   "language": "python",
   "name": "python3"
  },
  "language_info": {
   "codemirror_mode": {
    "name": "ipython",
    "version": 3
   },
   "file_extension": ".py",
   "mimetype": "text/x-python",
   "name": "python",
   "nbconvert_exporter": "python",
   "pygments_lexer": "ipython3",
   "version": "3.7.0"
  }
 },
 "nbformat": 4,
 "nbformat_minor": 2
}
